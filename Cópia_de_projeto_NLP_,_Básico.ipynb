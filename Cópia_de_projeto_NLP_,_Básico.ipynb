{
  "nbformat": 4,
  "nbformat_minor": 0,
  "metadata": {
    "colab": {
      "name": "Cópia de projeto NLP , Básico",
      "provenance": [],
      "collapsed_sections": [],
      "mount_file_id": "1-SpRY-BJ1yxMSqMEOCbAH8DxujmaDIay",
      "authorship_tag": "ABX9TyP5joIlt4m1yJnPj9Rwu6N8",
      "include_colab_link": true
    },
    "kernelspec": {
      "name": "python3",
      "display_name": "Python 3"
    },
    "language_info": {
      "name": "python"
    }
  },
  "cells": [
    {
      "cell_type": "markdown",
      "metadata": {
        "id": "view-in-github",
        "colab_type": "text"
      },
      "source": [
        "<a href=\"https://colab.research.google.com/github/Gabrielasants7/NLP/blob/main/C%C3%B3pia_de_projeto_NLP_%2C_B%C3%A1sico.ipynb\" target=\"_parent\"><img src=\"https://colab.research.google.com/assets/colab-badge.svg\" alt=\"Open In Colab\"/></a>"
      ]
    },
    {
      "cell_type": "code",
      "source": [
        "pip install newspaper3k"
      ],
      "metadata": {
        "colab": {
          "base_uri": "https://localhost:8080/"
        },
        "id": "23UqMRJLTxn7",
        "outputId": "329d014c-76fc-4356-8405-3ccaeb600327"
      },
      "execution_count": null,
      "outputs": [
        {
          "output_type": "stream",
          "name": "stdout",
          "text": [
            "Looking in indexes: https://pypi.org/simple, https://us-python.pkg.dev/colab-wheels/public/simple/\n",
            "Requirement already satisfied: newspaper3k in /usr/local/lib/python3.7/dist-packages (0.2.8)\n",
            "Requirement already satisfied: nltk>=3.2.1 in /usr/local/lib/python3.7/dist-packages (from newspaper3k) (3.7)\n",
            "Requirement already satisfied: tldextract>=2.0.1 in /usr/local/lib/python3.7/dist-packages (from newspaper3k) (3.3.1)\n",
            "Requirement already satisfied: jieba3k>=0.35.1 in /usr/local/lib/python3.7/dist-packages (from newspaper3k) (0.35.1)\n",
            "Requirement already satisfied: Pillow>=3.3.0 in /usr/local/lib/python3.7/dist-packages (from newspaper3k) (7.1.2)\n",
            "Requirement already satisfied: feedfinder2>=0.0.4 in /usr/local/lib/python3.7/dist-packages (from newspaper3k) (0.0.4)\n",
            "Requirement already satisfied: cssselect>=0.9.2 in /usr/local/lib/python3.7/dist-packages (from newspaper3k) (1.1.0)\n",
            "Requirement already satisfied: tinysegmenter==0.3 in /usr/local/lib/python3.7/dist-packages (from newspaper3k) (0.3)\n",
            "Requirement already satisfied: lxml>=3.6.0 in /usr/local/lib/python3.7/dist-packages (from newspaper3k) (4.2.6)\n",
            "Requirement already satisfied: feedparser>=5.2.1 in /usr/local/lib/python3.7/dist-packages (from newspaper3k) (6.0.10)\n",
            "Requirement already satisfied: beautifulsoup4>=4.4.1 in /usr/local/lib/python3.7/dist-packages (from newspaper3k) (4.6.3)\n",
            "Requirement already satisfied: PyYAML>=3.11 in /usr/local/lib/python3.7/dist-packages (from newspaper3k) (3.13)\n",
            "Requirement already satisfied: python-dateutil>=2.5.3 in /usr/local/lib/python3.7/dist-packages (from newspaper3k) (2.8.2)\n",
            "Requirement already satisfied: requests>=2.10.0 in /usr/local/lib/python3.7/dist-packages (from newspaper3k) (2.23.0)\n",
            "Requirement already satisfied: six in /usr/local/lib/python3.7/dist-packages (from feedfinder2>=0.0.4->newspaper3k) (1.15.0)\n",
            "Requirement already satisfied: sgmllib3k in /usr/local/lib/python3.7/dist-packages (from feedparser>=5.2.1->newspaper3k) (1.0.0)\n",
            "Requirement already satisfied: regex>=2021.8.3 in /usr/local/lib/python3.7/dist-packages (from nltk>=3.2.1->newspaper3k) (2022.6.2)\n",
            "Requirement already satisfied: click in /usr/local/lib/python3.7/dist-packages (from nltk>=3.2.1->newspaper3k) (7.1.2)\n",
            "Requirement already satisfied: joblib in /usr/local/lib/python3.7/dist-packages (from nltk>=3.2.1->newspaper3k) (1.1.0)\n",
            "Requirement already satisfied: tqdm in /usr/local/lib/python3.7/dist-packages (from nltk>=3.2.1->newspaper3k) (4.64.0)\n",
            "Requirement already satisfied: idna<3,>=2.5 in /usr/local/lib/python3.7/dist-packages (from requests>=2.10.0->newspaper3k) (2.10)\n",
            "Requirement already satisfied: certifi>=2017.4.17 in /usr/local/lib/python3.7/dist-packages (from requests>=2.10.0->newspaper3k) (2022.6.15)\n",
            "Requirement already satisfied: urllib3!=1.25.0,!=1.25.1,<1.26,>=1.21.1 in /usr/local/lib/python3.7/dist-packages (from requests>=2.10.0->newspaper3k) (1.24.3)\n",
            "Requirement already satisfied: chardet<4,>=3.0.2 in /usr/local/lib/python3.7/dist-packages (from requests>=2.10.0->newspaper3k) (3.0.4)\n",
            "Requirement already satisfied: filelock>=3.0.8 in /usr/local/lib/python3.7/dist-packages (from tldextract>=2.0.1->newspaper3k) (3.7.1)\n",
            "Requirement already satisfied: requests-file>=1.4 in /usr/local/lib/python3.7/dist-packages (from tldextract>=2.0.1->newspaper3k) (1.5.1)\n"
          ]
        }
      ]
    },
    {
      "cell_type": "code",
      "source": [
        "pip install wordcloud"
      ],
      "metadata": {
        "colab": {
          "base_uri": "https://localhost:8080/"
        },
        "id": "PDHYnCb9Tvz4",
        "outputId": "15c1031b-8a67-488e-b636-a721cfde86ef"
      },
      "execution_count": null,
      "outputs": [
        {
          "output_type": "stream",
          "name": "stdout",
          "text": [
            "Looking in indexes: https://pypi.org/simple, https://us-python.pkg.dev/colab-wheels/public/simple/\n",
            "Requirement already satisfied: wordcloud in /usr/local/lib/python3.7/dist-packages (1.5.0)\n",
            "Requirement already satisfied: pillow in /usr/local/lib/python3.7/dist-packages (from wordcloud) (7.1.2)\n",
            "Requirement already satisfied: numpy>=1.6.1 in /usr/local/lib/python3.7/dist-packages (from wordcloud) (1.21.6)\n"
          ]
        }
      ]
    },
    {
      "cell_type": "markdown",
      "source": [
        "## Projeto (NLP) \n",
        "![79901TextClassificationExample.png](data:image/png;base64,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)"
      ],
      "metadata": {
        "id": "xI99CEc1_gc5"
      }
    },
    {
      "cell_type": "markdown",
      "source": [
        "## Escopo do Projeto \n",
        "1. Definição da Temática\n",
        "2. Panorama Geral\n",
        "2. Objetivo\n",
        "4. Inicialização\n",
        "5. EDA\n",
        "6. Visualizando os Dados para obter mais informações \n",
        "7. Pré-Processamento\n",
        "7. Regressão Logística\n",
        "8. LightGBM\n",
        "10. Conclusão "
      ],
      "metadata": {
        "id": "YUIpGoV5iXC9"
      }
    },
    {
      "cell_type": "markdown",
      "source": [
        "##Definição da Temática\n",
        "\n",
        "A inteligência artificial abandonou o âmbito da ficção científica e está se infiltrando silenciosamente em nossas vidas , Ela já faz parte do nosso dia a dia, A realidade de máquinas falando e respondendo a nós de maneira humana já é uma realidade, O processamento de linguagem natural (NLP) é um campo localizado na interseção da ciência de dados e da Inteligência Artificial (IA), alguns campos comumente utilizados em NLP  .\n",
        "\n",
        "*campos de aplicação* :\n",
        "\n",
        "Classificação de texto: consiste em atribuir um conjunto de categorias pré-definidas a um determinado texto. Classificadores de texto podem ser usados ​​para organizar, estruturar e categorizar um conjunto de textos.\n",
        "\n",
        "Reconhecimento de caracteres: permite extrair, do reconhecimento de caracteres, as principais informações de recibos, faturas, cheques, documentos legais de faturamento, etc.\n",
        "\n",
        "Correção automática: a maioria dos editores de texto atuais está equipada com um corretor ortográfico que permite verificar se há erros de ortografia no texto.\n",
        "\n",
        "Resumo automático: os métodos de NLP também são usados ​​para produzir resumos curtos, precisos e fluidos de um documento de texto mais longo.\n",
        "\n",
        "\n"
      ],
      "metadata": {
        "id": "XhTHR14Rl0DP"
      }
    },
    {
      "cell_type": "markdown",
      "source": [
        "##Panorama Geral \n",
        "\n",
        "Esse projeto introdutório de NLP , tem como  ideia central a classificação de texto . Designadamente, a deteccão de Spam.\n",
        "Para isso utilizarei,  Regressão logística, e o classificador  LightGBM que é considerado bom para classificação de texto . \n",
        "\n",
        "\n",
        "Por que , Regressão Logística?\n",
        "\n",
        "Regressão Logística é um dos algoritmos comumente usados em aprendizado de máquina para problemas de classificação binária, que são problemas com  dois valores de classes , incluindo previsões como \"isto ou aquilo\", \"Sim ou Não\", e \"A OU B.\" \n",
        "Além disso a Regressão Logística pode estimar a probabilidade dos eventos, incluindo a determinação de uma relação entre as características e as probabilidades de eventos .\n",
        "\n",
        "Por que , o  LightGBM ?\n",
        "\n",
        "Light GBM é um algoritmo relativamente novo , comparado a outros , porém é um classificador que tem como características: Velocidade de treinamento , maior eficiência, Melhor precisão, Suporte de aprendizado paralelo e GPU.\n",
        "Dito isso , resolvir contrastar com a Regressão Logística e explorar qual tem o melhor desempenho perante ao objetivo do projeto ."
      ],
      "metadata": {
        "id": "QZK0w0ILNeJU"
      }
    },
    {
      "cell_type": "markdown",
      "source": [
        "##Objetivo\n",
        "O objetivo do projeto consiste em atribuir, um conjunto de categorias pré-definidas (spam ou não), o desígnio é organizar, estruturar e categorizar ."
      ],
      "metadata": {
        "id": "u3tVCkl-lzeT"
      }
    },
    {
      "cell_type": "markdown",
      "source": [
        "##Inicializando"
      ],
      "metadata": {
        "id": "dmorX7hM7PZC"
      }
    },
    {
      "cell_type": "code",
      "execution_count": null,
      "metadata": {
        "colab": {
          "base_uri": "https://localhost:8080/"
        },
        "id": "fN1SFlUpyACh",
        "outputId": "c8129d73-2642-48c8-f863-efe4ca04d7c6"
      },
      "outputs": [
        {
          "output_type": "stream",
          "name": "stderr",
          "text": [
            "[nltk_data] Downloading package stopwords to /root/nltk_data...\n",
            "[nltk_data]   Package stopwords is already up-to-date!\n",
            "[nltk_data] Downloading package wordnet to /root/nltk_data...\n",
            "[nltk_data]   Package wordnet is already up-to-date!\n"
          ]
        },
        {
          "output_type": "stream",
          "name": "stdout",
          "text": [
            "Drive already mounted at /content/drive; to attempt to forcibly remount, call drive.mount(\"/content/drive\", force_remount=True).\n"
          ]
        }
      ],
      "source": [
        "#Importando as Bibliotecas \n",
        "import numpy as np\n",
        "from wordcloud import WordCloud\n",
        "import matplotlib.pyplot as plt\n",
        "%matplotlib inline\n",
        "import seaborn as sns\n",
        "import string\n",
        "import pandas as pd\n",
        "import nltk\n",
        "nltk.download( 'stopwords' )\n",
        "from nltk.corpus import stopwords\n",
        "nltk.download('wordnet')\n",
        "from nltk.stem.wordnet import WordNetLemmatizer\n",
        "import re\n",
        "from sklearn.feature_extraction.text import TfidfVectorizer\n",
        "from sklearn.model_selection import train_test_split\n",
        "from sklearn import metrics\n",
        "from sklearn.model_selection import train_test_split\n",
        "from sklearn.linear_model import LogisticRegression\n",
        "from google.colab import drive\n",
        "drive.mount('/content/drive')"
      ]
    },
    {
      "cell_type": "code",
      "source": [
        "# Carregando o dataset\n",
        "email = pd.read_csv('/content/drive/MyDrive/Spam Email raw text for NLP.csv')\n",
        "email "
      ],
      "metadata": {
        "colab": {
          "base_uri": "https://localhost:8080/",
          "height": 424
        },
        "id": "5J5iRmtBAiGl",
        "outputId": "ba523623-552a-4be4-848c-5c7d100ca756"
      },
      "execution_count": null,
      "outputs": [
        {
          "output_type": "execute_result",
          "data": {
            "text/plain": [
              "      CATEGORY                                            MESSAGE  \\\n",
              "0            1  Dear Homeowner,\\n\\n \\n\\nInterest Rates are at ...   \n",
              "1            1  ATTENTION: This is a MUST for ALL Computer Use...   \n",
              "2            1  This is a multi-part message in MIME format.\\n...   \n",
              "3            1  IMPORTANT INFORMATION:\\n\\n\\n\\nThe new domain n...   \n",
              "4            1  This is the bottom line.  If you can GIVE AWAY...   \n",
              "...        ...                                                ...   \n",
              "5791         0  I'm one of the 30,000 but it's not working ver...   \n",
              "5792         0  Damien Morton quoted:\\n\\n>W3C approves HTML 4 ...   \n",
              "5793         0  On Mon, 2002-07-22 at 06:50, che wrote:\\n\\n\\n\\...   \n",
              "5794         0  Once upon a time, Manfred wrote :\\n\\n\\n\\n> I w...   \n",
              "5795         0  If you run Pick, and then use the \"New FTOC\" b...   \n",
              "\n",
              "                                   FILE_NAME  \n",
              "0     00249.5f45607c1bffe89f60ba1ec9f878039a  \n",
              "1     00373.ebe8670ac56b04125c25100a36ab0510  \n",
              "2     00214.1367039e50dc6b7adb0f2aa8aba83216  \n",
              "3     00210.050ffd105bd4e006771ee63cabc59978  \n",
              "4     00033.9babb58d9298daa2963d4f514193d7d6  \n",
              "...                                      ...  \n",
              "5791  00609.dd49926ce94a1ea328cce9b62825bc97  \n",
              "5792  00957.e0b56b117f3ec5f85e432a9d2a47801f  \n",
              "5793  01127.841233b48eceb74a825417d8d918abf8  \n",
              "5794  01178.5c977dff972cd6eef64d4173b90307f0  \n",
              "5795  00747.352d424267d36975a7b40b85ffd0885e  \n",
              "\n",
              "[5796 rows x 3 columns]"
            ],
            "text/html": [
              "\n",
              "  <div id=\"df-0092487f-79e4-498d-b38c-62cc53e7c8b9\">\n",
              "    <div class=\"colab-df-container\">\n",
              "      <div>\n",
              "<style scoped>\n",
              "    .dataframe tbody tr th:only-of-type {\n",
              "        vertical-align: middle;\n",
              "    }\n",
              "\n",
              "    .dataframe tbody tr th {\n",
              "        vertical-align: top;\n",
              "    }\n",
              "\n",
              "    .dataframe thead th {\n",
              "        text-align: right;\n",
              "    }\n",
              "</style>\n",
              "<table border=\"1\" class=\"dataframe\">\n",
              "  <thead>\n",
              "    <tr style=\"text-align: right;\">\n",
              "      <th></th>\n",
              "      <th>CATEGORY</th>\n",
              "      <th>MESSAGE</th>\n",
              "      <th>FILE_NAME</th>\n",
              "    </tr>\n",
              "  </thead>\n",
              "  <tbody>\n",
              "    <tr>\n",
              "      <th>0</th>\n",
              "      <td>1</td>\n",
              "      <td>Dear Homeowner,\\n\\n \\n\\nInterest Rates are at ...</td>\n",
              "      <td>00249.5f45607c1bffe89f60ba1ec9f878039a</td>\n",
              "    </tr>\n",
              "    <tr>\n",
              "      <th>1</th>\n",
              "      <td>1</td>\n",
              "      <td>ATTENTION: This is a MUST for ALL Computer Use...</td>\n",
              "      <td>00373.ebe8670ac56b04125c25100a36ab0510</td>\n",
              "    </tr>\n",
              "    <tr>\n",
              "      <th>2</th>\n",
              "      <td>1</td>\n",
              "      <td>This is a multi-part message in MIME format.\\n...</td>\n",
              "      <td>00214.1367039e50dc6b7adb0f2aa8aba83216</td>\n",
              "    </tr>\n",
              "    <tr>\n",
              "      <th>3</th>\n",
              "      <td>1</td>\n",
              "      <td>IMPORTANT INFORMATION:\\n\\n\\n\\nThe new domain n...</td>\n",
              "      <td>00210.050ffd105bd4e006771ee63cabc59978</td>\n",
              "    </tr>\n",
              "    <tr>\n",
              "      <th>4</th>\n",
              "      <td>1</td>\n",
              "      <td>This is the bottom line.  If you can GIVE AWAY...</td>\n",
              "      <td>00033.9babb58d9298daa2963d4f514193d7d6</td>\n",
              "    </tr>\n",
              "    <tr>\n",
              "      <th>...</th>\n",
              "      <td>...</td>\n",
              "      <td>...</td>\n",
              "      <td>...</td>\n",
              "    </tr>\n",
              "    <tr>\n",
              "      <th>5791</th>\n",
              "      <td>0</td>\n",
              "      <td>I'm one of the 30,000 but it's not working ver...</td>\n",
              "      <td>00609.dd49926ce94a1ea328cce9b62825bc97</td>\n",
              "    </tr>\n",
              "    <tr>\n",
              "      <th>5792</th>\n",
              "      <td>0</td>\n",
              "      <td>Damien Morton quoted:\\n\\n&gt;W3C approves HTML 4 ...</td>\n",
              "      <td>00957.e0b56b117f3ec5f85e432a9d2a47801f</td>\n",
              "    </tr>\n",
              "    <tr>\n",
              "      <th>5793</th>\n",
              "      <td>0</td>\n",
              "      <td>On Mon, 2002-07-22 at 06:50, che wrote:\\n\\n\\n\\...</td>\n",
              "      <td>01127.841233b48eceb74a825417d8d918abf8</td>\n",
              "    </tr>\n",
              "    <tr>\n",
              "      <th>5794</th>\n",
              "      <td>0</td>\n",
              "      <td>Once upon a time, Manfred wrote :\\n\\n\\n\\n&gt; I w...</td>\n",
              "      <td>01178.5c977dff972cd6eef64d4173b90307f0</td>\n",
              "    </tr>\n",
              "    <tr>\n",
              "      <th>5795</th>\n",
              "      <td>0</td>\n",
              "      <td>If you run Pick, and then use the \"New FTOC\" b...</td>\n",
              "      <td>00747.352d424267d36975a7b40b85ffd0885e</td>\n",
              "    </tr>\n",
              "  </tbody>\n",
              "</table>\n",
              "<p>5796 rows × 3 columns</p>\n",
              "</div>\n",
              "      <button class=\"colab-df-convert\" onclick=\"convertToInteractive('df-0092487f-79e4-498d-b38c-62cc53e7c8b9')\"\n",
              "              title=\"Convert this dataframe to an interactive table.\"\n",
              "              style=\"display:none;\">\n",
              "        \n",
              "  <svg xmlns=\"http://www.w3.org/2000/svg\" height=\"24px\"viewBox=\"0 0 24 24\"\n",
              "       width=\"24px\">\n",
              "    <path d=\"M0 0h24v24H0V0z\" fill=\"none\"/>\n",
              "    <path d=\"M18.56 5.44l.94 2.06.94-2.06 2.06-.94-2.06-.94-.94-2.06-.94 2.06-2.06.94zm-11 1L8.5 8.5l.94-2.06 2.06-.94-2.06-.94L8.5 2.5l-.94 2.06-2.06.94zm10 10l.94 2.06.94-2.06 2.06-.94-2.06-.94-.94-2.06-.94 2.06-2.06.94z\"/><path d=\"M17.41 7.96l-1.37-1.37c-.4-.4-.92-.59-1.43-.59-.52 0-1.04.2-1.43.59L10.3 9.45l-7.72 7.72c-.78.78-.78 2.05 0 2.83L4 21.41c.39.39.9.59 1.41.59.51 0 1.02-.2 1.41-.59l7.78-7.78 2.81-2.81c.8-.78.8-2.07 0-2.86zM5.41 20L4 18.59l7.72-7.72 1.47 1.35L5.41 20z\"/>\n",
              "  </svg>\n",
              "      </button>\n",
              "      \n",
              "  <style>\n",
              "    .colab-df-container {\n",
              "      display:flex;\n",
              "      flex-wrap:wrap;\n",
              "      gap: 12px;\n",
              "    }\n",
              "\n",
              "    .colab-df-convert {\n",
              "      background-color: #E8F0FE;\n",
              "      border: none;\n",
              "      border-radius: 50%;\n",
              "      cursor: pointer;\n",
              "      display: none;\n",
              "      fill: #1967D2;\n",
              "      height: 32px;\n",
              "      padding: 0 0 0 0;\n",
              "      width: 32px;\n",
              "    }\n",
              "\n",
              "    .colab-df-convert:hover {\n",
              "      background-color: #E2EBFA;\n",
              "      box-shadow: 0px 1px 2px rgba(60, 64, 67, 0.3), 0px 1px 3px 1px rgba(60, 64, 67, 0.15);\n",
              "      fill: #174EA6;\n",
              "    }\n",
              "\n",
              "    [theme=dark] .colab-df-convert {\n",
              "      background-color: #3B4455;\n",
              "      fill: #D2E3FC;\n",
              "    }\n",
              "\n",
              "    [theme=dark] .colab-df-convert:hover {\n",
              "      background-color: #434B5C;\n",
              "      box-shadow: 0px 1px 3px 1px rgba(0, 0, 0, 0.15);\n",
              "      filter: drop-shadow(0px 1px 2px rgba(0, 0, 0, 0.3));\n",
              "      fill: #FFFFFF;\n",
              "    }\n",
              "  </style>\n",
              "\n",
              "      <script>\n",
              "        const buttonEl =\n",
              "          document.querySelector('#df-0092487f-79e4-498d-b38c-62cc53e7c8b9 button.colab-df-convert');\n",
              "        buttonEl.style.display =\n",
              "          google.colab.kernel.accessAllowed ? 'block' : 'none';\n",
              "\n",
              "        async function convertToInteractive(key) {\n",
              "          const element = document.querySelector('#df-0092487f-79e4-498d-b38c-62cc53e7c8b9');\n",
              "          const dataTable =\n",
              "            await google.colab.kernel.invokeFunction('convertToInteractive',\n",
              "                                                     [key], {});\n",
              "          if (!dataTable) return;\n",
              "\n",
              "          const docLinkHtml = 'Like what you see? Visit the ' +\n",
              "            '<a target=\"_blank\" href=https://colab.research.google.com/notebooks/data_table.ipynb>data table notebook</a>'\n",
              "            + ' to learn more about interactive tables.';\n",
              "          element.innerHTML = '';\n",
              "          dataTable['output_type'] = 'display_data';\n",
              "          await google.colab.output.renderOutput(dataTable, element);\n",
              "          const docLink = document.createElement('div');\n",
              "          docLink.innerHTML = docLinkHtml;\n",
              "          element.appendChild(docLink);\n",
              "        }\n",
              "      </script>\n",
              "    </div>\n",
              "  </div>\n",
              "  "
            ]
          },
          "metadata": {},
          "execution_count": 31
        }
      ]
    },
    {
      "cell_type": "code",
      "source": [
        "#Visualizando as cinco últimas linhas do dataset\n",
        "email.tail()"
      ],
      "metadata": {
        "colab": {
          "base_uri": "https://localhost:8080/",
          "height": 206
        },
        "id": "hhWBrlADz7uJ",
        "outputId": "32643f08-88a9-4795-aaa2-9281e13038c5"
      },
      "execution_count": null,
      "outputs": [
        {
          "output_type": "execute_result",
          "data": {
            "text/plain": [
              "      CATEGORY                                            MESSAGE  \\\n",
              "5791         0  I'm one of the 30,000 but it's not working ver...   \n",
              "5792         0  Damien Morton quoted:\\n\\n>W3C approves HTML 4 ...   \n",
              "5793         0  On Mon, 2002-07-22 at 06:50, che wrote:\\n\\n\\n\\...   \n",
              "5794         0  Once upon a time, Manfred wrote :\\n\\n\\n\\n> I w...   \n",
              "5795         0  If you run Pick, and then use the \"New FTOC\" b...   \n",
              "\n",
              "                                   FILE_NAME  \n",
              "5791  00609.dd49926ce94a1ea328cce9b62825bc97  \n",
              "5792  00957.e0b56b117f3ec5f85e432a9d2a47801f  \n",
              "5793  01127.841233b48eceb74a825417d8d918abf8  \n",
              "5794  01178.5c977dff972cd6eef64d4173b90307f0  \n",
              "5795  00747.352d424267d36975a7b40b85ffd0885e  "
            ],
            "text/html": [
              "\n",
              "  <div id=\"df-534c1d1a-487d-4ea2-86fb-f6ea22cc2869\">\n",
              "    <div class=\"colab-df-container\">\n",
              "      <div>\n",
              "<style scoped>\n",
              "    .dataframe tbody tr th:only-of-type {\n",
              "        vertical-align: middle;\n",
              "    }\n",
              "\n",
              "    .dataframe tbody tr th {\n",
              "        vertical-align: top;\n",
              "    }\n",
              "\n",
              "    .dataframe thead th {\n",
              "        text-align: right;\n",
              "    }\n",
              "</style>\n",
              "<table border=\"1\" class=\"dataframe\">\n",
              "  <thead>\n",
              "    <tr style=\"text-align: right;\">\n",
              "      <th></th>\n",
              "      <th>CATEGORY</th>\n",
              "      <th>MESSAGE</th>\n",
              "      <th>FILE_NAME</th>\n",
              "    </tr>\n",
              "  </thead>\n",
              "  <tbody>\n",
              "    <tr>\n",
              "      <th>5791</th>\n",
              "      <td>0</td>\n",
              "      <td>I'm one of the 30,000 but it's not working ver...</td>\n",
              "      <td>00609.dd49926ce94a1ea328cce9b62825bc97</td>\n",
              "    </tr>\n",
              "    <tr>\n",
              "      <th>5792</th>\n",
              "      <td>0</td>\n",
              "      <td>Damien Morton quoted:\\n\\n&gt;W3C approves HTML 4 ...</td>\n",
              "      <td>00957.e0b56b117f3ec5f85e432a9d2a47801f</td>\n",
              "    </tr>\n",
              "    <tr>\n",
              "      <th>5793</th>\n",
              "      <td>0</td>\n",
              "      <td>On Mon, 2002-07-22 at 06:50, che wrote:\\n\\n\\n\\...</td>\n",
              "      <td>01127.841233b48eceb74a825417d8d918abf8</td>\n",
              "    </tr>\n",
              "    <tr>\n",
              "      <th>5794</th>\n",
              "      <td>0</td>\n",
              "      <td>Once upon a time, Manfred wrote :\\n\\n\\n\\n&gt; I w...</td>\n",
              "      <td>01178.5c977dff972cd6eef64d4173b90307f0</td>\n",
              "    </tr>\n",
              "    <tr>\n",
              "      <th>5795</th>\n",
              "      <td>0</td>\n",
              "      <td>If you run Pick, and then use the \"New FTOC\" b...</td>\n",
              "      <td>00747.352d424267d36975a7b40b85ffd0885e</td>\n",
              "    </tr>\n",
              "  </tbody>\n",
              "</table>\n",
              "</div>\n",
              "      <button class=\"colab-df-convert\" onclick=\"convertToInteractive('df-534c1d1a-487d-4ea2-86fb-f6ea22cc2869')\"\n",
              "              title=\"Convert this dataframe to an interactive table.\"\n",
              "              style=\"display:none;\">\n",
              "        \n",
              "  <svg xmlns=\"http://www.w3.org/2000/svg\" height=\"24px\"viewBox=\"0 0 24 24\"\n",
              "       width=\"24px\">\n",
              "    <path d=\"M0 0h24v24H0V0z\" fill=\"none\"/>\n",
              "    <path d=\"M18.56 5.44l.94 2.06.94-2.06 2.06-.94-2.06-.94-.94-2.06-.94 2.06-2.06.94zm-11 1L8.5 8.5l.94-2.06 2.06-.94-2.06-.94L8.5 2.5l-.94 2.06-2.06.94zm10 10l.94 2.06.94-2.06 2.06-.94-2.06-.94-.94-2.06-.94 2.06-2.06.94z\"/><path d=\"M17.41 7.96l-1.37-1.37c-.4-.4-.92-.59-1.43-.59-.52 0-1.04.2-1.43.59L10.3 9.45l-7.72 7.72c-.78.78-.78 2.05 0 2.83L4 21.41c.39.39.9.59 1.41.59.51 0 1.02-.2 1.41-.59l7.78-7.78 2.81-2.81c.8-.78.8-2.07 0-2.86zM5.41 20L4 18.59l7.72-7.72 1.47 1.35L5.41 20z\"/>\n",
              "  </svg>\n",
              "      </button>\n",
              "      \n",
              "  <style>\n",
              "    .colab-df-container {\n",
              "      display:flex;\n",
              "      flex-wrap:wrap;\n",
              "      gap: 12px;\n",
              "    }\n",
              "\n",
              "    .colab-df-convert {\n",
              "      background-color: #E8F0FE;\n",
              "      border: none;\n",
              "      border-radius: 50%;\n",
              "      cursor: pointer;\n",
              "      display: none;\n",
              "      fill: #1967D2;\n",
              "      height: 32px;\n",
              "      padding: 0 0 0 0;\n",
              "      width: 32px;\n",
              "    }\n",
              "\n",
              "    .colab-df-convert:hover {\n",
              "      background-color: #E2EBFA;\n",
              "      box-shadow: 0px 1px 2px rgba(60, 64, 67, 0.3), 0px 1px 3px 1px rgba(60, 64, 67, 0.15);\n",
              "      fill: #174EA6;\n",
              "    }\n",
              "\n",
              "    [theme=dark] .colab-df-convert {\n",
              "      background-color: #3B4455;\n",
              "      fill: #D2E3FC;\n",
              "    }\n",
              "\n",
              "    [theme=dark] .colab-df-convert:hover {\n",
              "      background-color: #434B5C;\n",
              "      box-shadow: 0px 1px 3px 1px rgba(0, 0, 0, 0.15);\n",
              "      filter: drop-shadow(0px 1px 2px rgba(0, 0, 0, 0.3));\n",
              "      fill: #FFFFFF;\n",
              "    }\n",
              "  </style>\n",
              "\n",
              "      <script>\n",
              "        const buttonEl =\n",
              "          document.querySelector('#df-534c1d1a-487d-4ea2-86fb-f6ea22cc2869 button.colab-df-convert');\n",
              "        buttonEl.style.display =\n",
              "          google.colab.kernel.accessAllowed ? 'block' : 'none';\n",
              "\n",
              "        async function convertToInteractive(key) {\n",
              "          const element = document.querySelector('#df-534c1d1a-487d-4ea2-86fb-f6ea22cc2869');\n",
              "          const dataTable =\n",
              "            await google.colab.kernel.invokeFunction('convertToInteractive',\n",
              "                                                     [key], {});\n",
              "          if (!dataTable) return;\n",
              "\n",
              "          const docLinkHtml = 'Like what you see? Visit the ' +\n",
              "            '<a target=\"_blank\" href=https://colab.research.google.com/notebooks/data_table.ipynb>data table notebook</a>'\n",
              "            + ' to learn more about interactive tables.';\n",
              "          element.innerHTML = '';\n",
              "          dataTable['output_type'] = 'display_data';\n",
              "          await google.colab.output.renderOutput(dataTable, element);\n",
              "          const docLink = document.createElement('div');\n",
              "          docLink.innerHTML = docLinkHtml;\n",
              "          element.appendChild(docLink);\n",
              "        }\n",
              "      </script>\n",
              "    </div>\n",
              "  </div>\n",
              "  "
            ]
          },
          "metadata": {},
          "execution_count": 32
        }
      ]
    },
    {
      "cell_type": "markdown",
      "source": [
        "##EDA"
      ],
      "metadata": {
        "id": "l1Aecs337aSi"
      }
    },
    {
      "cell_type": "code",
      "source": [
        "#Descritiva\n",
        "email.describe()"
      ],
      "metadata": {
        "colab": {
          "base_uri": "https://localhost:8080/",
          "height": 300
        },
        "id": "QSGtGGtaDimc",
        "outputId": "5dcb2257-ad2d-4048-9cdc-93e2ae21af7d"
      },
      "execution_count": null,
      "outputs": [
        {
          "output_type": "execute_result",
          "data": {
            "text/plain": [
              "          CATEGORY\n",
              "count  5796.000000\n",
              "mean      0.327122\n",
              "std       0.469203\n",
              "min       0.000000\n",
              "25%       0.000000\n",
              "50%       0.000000\n",
              "75%       1.000000\n",
              "max       1.000000"
            ],
            "text/html": [
              "\n",
              "  <div id=\"df-a171d57a-49f8-4fdd-8376-4f7992c7c22b\">\n",
              "    <div class=\"colab-df-container\">\n",
              "      <div>\n",
              "<style scoped>\n",
              "    .dataframe tbody tr th:only-of-type {\n",
              "        vertical-align: middle;\n",
              "    }\n",
              "\n",
              "    .dataframe tbody tr th {\n",
              "        vertical-align: top;\n",
              "    }\n",
              "\n",
              "    .dataframe thead th {\n",
              "        text-align: right;\n",
              "    }\n",
              "</style>\n",
              "<table border=\"1\" class=\"dataframe\">\n",
              "  <thead>\n",
              "    <tr style=\"text-align: right;\">\n",
              "      <th></th>\n",
              "      <th>CATEGORY</th>\n",
              "    </tr>\n",
              "  </thead>\n",
              "  <tbody>\n",
              "    <tr>\n",
              "      <th>count</th>\n",
              "      <td>5796.000000</td>\n",
              "    </tr>\n",
              "    <tr>\n",
              "      <th>mean</th>\n",
              "      <td>0.327122</td>\n",
              "    </tr>\n",
              "    <tr>\n",
              "      <th>std</th>\n",
              "      <td>0.469203</td>\n",
              "    </tr>\n",
              "    <tr>\n",
              "      <th>min</th>\n",
              "      <td>0.000000</td>\n",
              "    </tr>\n",
              "    <tr>\n",
              "      <th>25%</th>\n",
              "      <td>0.000000</td>\n",
              "    </tr>\n",
              "    <tr>\n",
              "      <th>50%</th>\n",
              "      <td>0.000000</td>\n",
              "    </tr>\n",
              "    <tr>\n",
              "      <th>75%</th>\n",
              "      <td>1.000000</td>\n",
              "    </tr>\n",
              "    <tr>\n",
              "      <th>max</th>\n",
              "      <td>1.000000</td>\n",
              "    </tr>\n",
              "  </tbody>\n",
              "</table>\n",
              "</div>\n",
              "      <button class=\"colab-df-convert\" onclick=\"convertToInteractive('df-a171d57a-49f8-4fdd-8376-4f7992c7c22b')\"\n",
              "              title=\"Convert this dataframe to an interactive table.\"\n",
              "              style=\"display:none;\">\n",
              "        \n",
              "  <svg xmlns=\"http://www.w3.org/2000/svg\" height=\"24px\"viewBox=\"0 0 24 24\"\n",
              "       width=\"24px\">\n",
              "    <path d=\"M0 0h24v24H0V0z\" fill=\"none\"/>\n",
              "    <path d=\"M18.56 5.44l.94 2.06.94-2.06 2.06-.94-2.06-.94-.94-2.06-.94 2.06-2.06.94zm-11 1L8.5 8.5l.94-2.06 2.06-.94-2.06-.94L8.5 2.5l-.94 2.06-2.06.94zm10 10l.94 2.06.94-2.06 2.06-.94-2.06-.94-.94-2.06-.94 2.06-2.06.94z\"/><path d=\"M17.41 7.96l-1.37-1.37c-.4-.4-.92-.59-1.43-.59-.52 0-1.04.2-1.43.59L10.3 9.45l-7.72 7.72c-.78.78-.78 2.05 0 2.83L4 21.41c.39.39.9.59 1.41.59.51 0 1.02-.2 1.41-.59l7.78-7.78 2.81-2.81c.8-.78.8-2.07 0-2.86zM5.41 20L4 18.59l7.72-7.72 1.47 1.35L5.41 20z\"/>\n",
              "  </svg>\n",
              "      </button>\n",
              "      \n",
              "  <style>\n",
              "    .colab-df-container {\n",
              "      display:flex;\n",
              "      flex-wrap:wrap;\n",
              "      gap: 12px;\n",
              "    }\n",
              "\n",
              "    .colab-df-convert {\n",
              "      background-color: #E8F0FE;\n",
              "      border: none;\n",
              "      border-radius: 50%;\n",
              "      cursor: pointer;\n",
              "      display: none;\n",
              "      fill: #1967D2;\n",
              "      height: 32px;\n",
              "      padding: 0 0 0 0;\n",
              "      width: 32px;\n",
              "    }\n",
              "\n",
              "    .colab-df-convert:hover {\n",
              "      background-color: #E2EBFA;\n",
              "      box-shadow: 0px 1px 2px rgba(60, 64, 67, 0.3), 0px 1px 3px 1px rgba(60, 64, 67, 0.15);\n",
              "      fill: #174EA6;\n",
              "    }\n",
              "\n",
              "    [theme=dark] .colab-df-convert {\n",
              "      background-color: #3B4455;\n",
              "      fill: #D2E3FC;\n",
              "    }\n",
              "\n",
              "    [theme=dark] .colab-df-convert:hover {\n",
              "      background-color: #434B5C;\n",
              "      box-shadow: 0px 1px 3px 1px rgba(0, 0, 0, 0.15);\n",
              "      filter: drop-shadow(0px 1px 2px rgba(0, 0, 0, 0.3));\n",
              "      fill: #FFFFFF;\n",
              "    }\n",
              "  </style>\n",
              "\n",
              "      <script>\n",
              "        const buttonEl =\n",
              "          document.querySelector('#df-a171d57a-49f8-4fdd-8376-4f7992c7c22b button.colab-df-convert');\n",
              "        buttonEl.style.display =\n",
              "          google.colab.kernel.accessAllowed ? 'block' : 'none';\n",
              "\n",
              "        async function convertToInteractive(key) {\n",
              "          const element = document.querySelector('#df-a171d57a-49f8-4fdd-8376-4f7992c7c22b');\n",
              "          const dataTable =\n",
              "            await google.colab.kernel.invokeFunction('convertToInteractive',\n",
              "                                                     [key], {});\n",
              "          if (!dataTable) return;\n",
              "\n",
              "          const docLinkHtml = 'Like what you see? Visit the ' +\n",
              "            '<a target=\"_blank\" href=https://colab.research.google.com/notebooks/data_table.ipynb>data table notebook</a>'\n",
              "            + ' to learn more about interactive tables.';\n",
              "          element.innerHTML = '';\n",
              "          dataTable['output_type'] = 'display_data';\n",
              "          await google.colab.output.renderOutput(dataTable, element);\n",
              "          const docLink = document.createElement('div');\n",
              "          docLink.innerHTML = docLinkHtml;\n",
              "          element.appendChild(docLink);\n",
              "        }\n",
              "      </script>\n",
              "    </div>\n",
              "  </div>\n",
              "  "
            ]
          },
          "metadata": {},
          "execution_count": 33
        }
      ]
    },
    {
      "cell_type": "code",
      "source": [
        "#Informações\n",
        "email.info()"
      ],
      "metadata": {
        "colab": {
          "base_uri": "https://localhost:8080/"
        },
        "id": "TRYrAqie8_fd",
        "outputId": "5a0e0be1-4116-46f1-e614-ccb1a020533f"
      },
      "execution_count": null,
      "outputs": [
        {
          "output_type": "stream",
          "name": "stdout",
          "text": [
            "<class 'pandas.core.frame.DataFrame'>\n",
            "RangeIndex: 5796 entries, 0 to 5795\n",
            "Data columns (total 3 columns):\n",
            " #   Column     Non-Null Count  Dtype \n",
            "---  ------     --------------  ----- \n",
            " 0   CATEGORY   5796 non-null   int64 \n",
            " 1   MESSAGE    5796 non-null   object\n",
            " 2   FILE_NAME  5796 non-null   object\n",
            "dtypes: int64(1), object(2)\n",
            "memory usage: 136.0+ KB\n"
          ]
        }
      ]
    },
    {
      "cell_type": "code",
      "source": [
        "#Observando se há dados duplicados \n",
        "email.duplicated()\n"
      ],
      "metadata": {
        "colab": {
          "base_uri": "https://localhost:8080/"
        },
        "id": "gvg_m5jSin5L",
        "outputId": "efa237ea-996a-4792-f5b8-19aef06b55eb"
      },
      "execution_count": null,
      "outputs": [
        {
          "output_type": "execute_result",
          "data": {
            "text/plain": [
              "0       False\n",
              "1       False\n",
              "2       False\n",
              "3       False\n",
              "4       False\n",
              "        ...  \n",
              "5791    False\n",
              "5792    False\n",
              "5793    False\n",
              "5794    False\n",
              "5795    False\n",
              "Length: 5796, dtype: bool"
            ]
          },
          "metadata": {},
          "execution_count": 35
        }
      ]
    },
    {
      "cell_type": "code",
      "source": [
        "#Dados nulos\n",
        "email.isna().sum()\n"
      ],
      "metadata": {
        "colab": {
          "base_uri": "https://localhost:8080/"
        },
        "id": "BKDFbGEdjbge",
        "outputId": "dd46a449-7fbe-4127-c1ee-0bd42c08db3e"
      },
      "execution_count": null,
      "outputs": [
        {
          "output_type": "execute_result",
          "data": {
            "text/plain": [
              "CATEGORY     0\n",
              "MESSAGE      0\n",
              "FILE_NAME    0\n",
              "dtype: int64"
            ]
          },
          "metadata": {},
          "execution_count": 36
        }
      ]
    },
    {
      "cell_type": "markdown",
      "source": [
        "## Visualizando"
      ],
      "metadata": {
        "id": "RwSmKRko-Ila"
      }
    },
    {
      "cell_type": "markdown",
      "source": [
        "Qual é a proporção de spam e não spam ?"
      ],
      "metadata": {
        "id": "KDnesPvC-SAc"
      }
    },
    {
      "cell_type": "code",
      "source": [
        "email.to_csv(\"Spam Email raw text for NLP.csv\",index=False)\n"
      ],
      "metadata": {
        "id": "Q-w6uPbyHjzQ"
      },
      "execution_count": null,
      "outputs": []
    },
    {
      "cell_type": "code",
      "source": [
        "#plotando o gráfico para visualizar a proporção \n",
        "category_names = ['Spam',\"Não spam\"]\n",
        "size = [email.CATEGORY.value_counts()[1],email.CATEGORY.value_counts()[0]]\n",
        "\n",
        "plt.figure(figsize=(5,5), dpi=100)\n",
        "plt.pie(size, labels=category_names, textprops={'fontsize':18}, startangle=90, autopct='%1.1f%%',\n",
        " explode=[0,0.05],)\n",
        "\n",
        "plt.show()"
      ],
      "metadata": {
        "colab": {
          "base_uri": "https://localhost:8080/",
          "height": 414
        },
        "id": "HKR7o4AGHn1t",
        "outputId": "a5ff146c-cc40-40fd-d2ce-9cf9160f1adc"
      },
      "execution_count": null,
      "outputs": [
        {
          "output_type": "display_data",
          "data": {
            "text/plain": [
              "<Figure size 500x500 with 1 Axes>"
            ],
            "image/png": "[encoded data removed]"
          },
          "metadata": {}
        }
      ]
    },
    {
      "cell_type": "code",
      "source": [
        "#Observando a proporção em números inteiros , 0 --> Não é spam, 1--> Spam , 0  \n",
        "email[\"CATEGORY\"].value_counts()"
      ],
      "metadata": {
        "colab": {
          "base_uri": "https://localhost:8080/"
        },
        "id": "CA8NaUv9-i8T",
        "outputId": "72db6ab3-138d-49d3-9029-bec9b622119b"
      },
      "execution_count": null,
      "outputs": [
        {
          "output_type": "execute_result",
          "data": {
            "text/plain": [
              "0    3900\n",
              "1    1896\n",
              "Name: CATEGORY, dtype: int64"
            ]
          },
          "metadata": {},
          "execution_count": 39
        }
      ]
    },
    {
      "cell_type": "code",
      "source": [
        "#0 --> Não é spam\n",
        "#1 --> Spam\n",
        "sns.countplot(email[\"CATEGORY\"])\n"
      ],
      "metadata": {
        "colab": {
          "base_uri": "https://localhost:8080/",
          "height": 351
        },
        "id": "NgBicYES1F5E",
        "outputId": "1f5eee96-617f-4576-c53e-eaf59aafa518"
      },
      "execution_count": null,
      "outputs": [
        {
          "output_type": "stream",
          "name": "stderr",
          "text": [
            "/usr/local/lib/python3.7/dist-packages/seaborn/_decorators.py:43: FutureWarning: Pass the following variable as a keyword arg: x. From version 0.12, the only valid positional argument will be `data`, and passing other arguments without an explicit keyword will result in an error or misinterpretation.\n",
            "  FutureWarning\n"
          ]
        },
        {
          "output_type": "execute_result",
          "data": {
            "text/plain": [
              "<matplotlib.axes._subplots.AxesSubplot at 0x7f444b391490>"
            ]
          },
          "metadata": {},
          "execution_count": 40
        },
        {
          "output_type": "display_data",
          "data": {
            "text/plain": [
              "<Figure size 432x288 with 1 Axes>"
            ],
            "image/png": "[encoded data removed]"
          },
          "metadata": {
            "needs_background": "light"
          }
        }
      ]
    },
    {
      "cell_type": "code",
      "source": [
        "import nltk\n",
        "nltk.download('omw-1.4')"
      ],
      "metadata": {
        "colab": {
          "base_uri": "https://localhost:8080/"
        },
        "id": "RJUc2MZtCFHt",
        "outputId": "26fe7e30-a8a4-4d33-bda9-1786688687c4"
      },
      "execution_count": null,
      "outputs": [
        {
          "output_type": "stream",
          "name": "stderr",
          "text": [
            "[nltk_data] Downloading package omw-1.4 to /root/nltk_data...\n",
            "[nltk_data]   Package omw-1.4 is already up-to-date!\n"
          ]
        },
        {
          "output_type": "execute_result",
          "data": {
            "text/plain": [
              "True"
            ]
          },
          "metadata": {},
          "execution_count": 41
        }
      ]
    },
    {
      "cell_type": "markdown",
      "source": [
        "##Pré-Processamento \n",
        "O Pré-Processamento irá consistir em ; Limpeza , Lematização, Conversão"
      ],
      "metadata": {
        "id": "rqUfTthRcLT3"
      }
    },
    {
      "cell_type": "code",
      "source": [
        "#Removendo pontuação e palavras paradas \n",
        "def process(text):\n",
        "    nopunc = [char for char in text if char not in string.punctuation]\n",
        "    nopunc = ''.join(nopunc)\n",
        "\n",
        "    clean = [word for word in nopunc.split() if word.lower() not in stopwords.words('english')]\n",
        "    return clean\n",
        "# Mostrar a tokenização\n",
        "email['MESSAGE'].head().apply(process)"
      ],
      "metadata": {
        "id": "5xS68nandVYg",
        "colab": {
          "base_uri": "https://localhost:8080/"
        },
        "outputId": "cb2a7f03-3fa3-4e2d-860d-eb3c330791e4"
      },
      "execution_count": null,
      "outputs": [
        {
          "output_type": "execute_result",
          "data": {
            "text/plain": [
              "0    [Dear, Homeowner, Interest, Rates, lowest, poi...\n",
              "1    [ATTENTION, MUST, Computer, Users, NEWSpecial,...\n",
              "2    [multipart, message, MIME, format, NextPart000...\n",
              "3    [IMPORTANT, INFORMATION, new, domain, names, f...\n",
              "4    [bottom, line, GIVE, AWAY, CDs, FREE, people, ...\n",
              "Name: MESSAGE, dtype: object"
            ]
          },
          "metadata": {},
          "execution_count": 42
        }
      ]
    },
    {
      "cell_type": "code",
      "source": [
        "#Lematização\n",
        "lemmatizer = WordNetLemmatizer()\n",
        "corpus = []\n",
        "\n",
        "for i in range(0, len(email)):\n",
        "    message = re.sub('[^a-zA-Z]', ' ', email['MESSAGE'][i])\n",
        "    message = message.split()\n",
        "    message =[word for word in message if not word in set(stopwords.words('english'))]\n",
        "    message = [lemmatizer.lemmatize(word) for word in message]\n",
        "    message = ' '.join(message)\n",
        "    corpus.append(message)"
      ],
      "metadata": {
        "id": "OFReVTPkC5YL"
      },
      "execution_count": null,
      "outputs": []
    },
    {
      "cell_type": "code",
      "source": [
        "#convertendo o texto em uma matriz de contagens de token\n",
        "from sklearn.feature_extraction.text import CountVectorizer\n",
        "message = CountVectorizer(analyzer=process).fit_transform(email['MESSAGE'])"
      ],
      "metadata": {
        "id": "tUOYeEPmPN5U"
      },
      "execution_count": null,
      "outputs": []
    },
    {
      "cell_type": "code",
      "source": [
        "#Aplicando tfidf\n",
        "tfidf = TfidfVectorizer(ngram_range=(1, 3))\n",
        "X = tfidf.fit_transform(corpus)\n",
        "y = email[\"CATEGORY\"]"
      ],
      "metadata": {
        "id": "LXrw4Xi7KHod"
      },
      "execution_count": null,
      "outputs": []
    },
    {
      "cell_type": "code",
      "source": [
        "from sklearn.model_selection import train_test_split\n",
        "xtrain, xtest, ytrain, ytest = train_test_split(message, email['CATEGORY'], test_size=0.30, random_state=0)\n",
        "# \n",
        "print(message.shape)"
      ],
      "metadata": {
        "colab": {
          "base_uri": "https://localhost:8080/"
        },
        "id": "hxVP7X4cUAia",
        "outputId": "79d9720b-472a-4b10-ad48-f6bd28ebae64"
      },
      "execution_count": null,
      "outputs": [
        {
          "output_type": "stream",
          "name": "stdout",
          "text": [
            "(5796, 137833)\n"
          ]
        }
      ]
    },
    {
      "cell_type": "markdown",
      "source": [
        "##Regressão logística\n",
        "\n",
        "A regressão logística é um algoritmo de aprendizado de máquina para classificação. Neste algoritmo, as probabilidades que descrevem os possíveis resultados de uma única tentativa são modeladas usando uma função logística."
      ],
      "metadata": {
        "id": "8kcuk7uNcHLv"
      }
    },
    {
      "cell_type": "code",
      "source": [
        "#Dividindo o conjunto de dados \n",
        "X_train, X_test, y_train, y_test = train_test_split(X, y, test_size=0.4, random_state=0)"
      ],
      "metadata": {
        "id": "8C-WjcDmBfFS"
      },
      "execution_count": null,
      "outputs": []
    },
    {
      "cell_type": "code",
      "source": [
        "#Treinando o modelo\n",
        "log_model = LogisticRegression(class_weight='balanced')\n",
        "log_model.fit(X_train,y_train)\n",
        "\n"
      ],
      "metadata": {
        "colab": {
          "base_uri": "https://localhost:8080/"
        },
        "id": "XEgdR2RaYakQ",
        "outputId": "3adb82ca-3123-472f-8d68-9935fb88bdb9"
      },
      "execution_count": null,
      "outputs": [
        {
          "output_type": "execute_result",
          "data": {
            "text/plain": [
              "LogisticRegression(class_weight='balanced')"
            ]
          },
          "metadata": {},
          "execution_count": 48
        }
      ]
    },
    {
      "cell_type": "code",
      "source": [
        "#Fazendo a predição com o modedelo treinado\n",
        "y_pred = log_model.predict(X_test)"
      ],
      "metadata": {
        "id": "OFn32VSzu5H0"
      },
      "execution_count": null,
      "outputs": []
    },
    {
      "cell_type": "code",
      "source": [
        "#Avaliando a perfomance\n",
        "from sklearn.metrics import classification_report\n",
        "print(classification_report(y_test,y_pred))\n",
        "\n"
      ],
      "metadata": {
        "colab": {
          "base_uri": "https://localhost:8080/"
        },
        "id": "wtbAs60WbyW9",
        "outputId": "9e0272a6-df0b-4dc8-a306-7cbe801d903b"
      },
      "execution_count": null,
      "outputs": [
        {
          "output_type": "stream",
          "name": "stdout",
          "text": [
            "              precision    recall  f1-score   support\n",
            "\n",
            "           0       0.97      0.99      0.98      1559\n",
            "           1       0.99      0.93      0.96       760\n",
            "\n",
            "    accuracy                           0.97      2319\n",
            "   macro avg       0.98      0.96      0.97      2319\n",
            "weighted avg       0.97      0.97      0.97      2319\n",
            "\n"
          ]
        }
      ]
    },
    {
      "cell_type": "code",
      "source": [
        "print(\"Accuracy:\",metrics.accuracy_score(y_test, y_pred))\n",
        "print(\"Precision:\",metrics.precision_score(y_test, y_pred))\n",
        "print(\"Recall:\",metrics.recall_score(y_test, y_pred))"
      ],
      "metadata": {
        "colab": {
          "base_uri": "https://localhost:8080/"
        },
        "id": "b-WfK4jBb6s-",
        "outputId": "2aa1f600-fe00-415e-ea7d-68594a516fe4"
      },
      "execution_count": null,
      "outputs": [
        {
          "output_type": "stream",
          "name": "stdout",
          "text": [
            "Accuracy: 0.9728331177231565\n",
            "Precision: 0.9874125874125874\n",
            "Recall: 0.9289473684210526\n"
          ]
        }
      ]
    },
    {
      "cell_type": "markdown",
      "source": [
        "## Lightgbm \n",
        "LightGBM é uma estrutura de aumento de gradiente que usa algoritmos de aprendizado baseados em árvore. Ele foi projetado para ser distribuído e eficiente com as seguintes vantagens:\n",
        "\n",
        "Melhor precisão,\n",
        "Velocidade de treinamento mais rápida e consequetemente, maior  eficiência,\n",
        "Menor uso de memória,\n",
        "Suporte de aprendizado paralelo e GPU.\n"
      ],
      "metadata": {
        "id": "M3JsIH79iXmc"
      }
    },
    {
      "cell_type": "code",
      "source": [
        "#Treinando o Modelo\n",
        "import lightgbm as lgb\n",
        "clf = lgb.LGBMClassifier()\n",
        "clf.fit(X_train, y_train)\n"
      ],
      "metadata": {
        "colab": {
          "base_uri": "https://localhost:8080/"
        },
        "id": "x90xAaUnkaxz",
        "outputId": "f4fafcb6-df88-4007-ba84-98a1c77b5311"
      },
      "execution_count": null,
      "outputs": [
        {
          "output_type": "execute_result",
          "data": {
            "text/plain": [
              "LGBMClassifier()"
            ]
          },
          "metadata": {},
          "execution_count": 52
        }
      ]
    },
    {
      "cell_type": "code",
      "source": [
        "#Predição do modelo\n",
        "y_pred=clf.predict(X_test)"
      ],
      "metadata": {
        "id": "9vJM6C8uG3HR"
      },
      "execution_count": null,
      "outputs": []
    },
    {
      "cell_type": "code",
      "source": [
        "#Visualizando a precisão\n",
        "from sklearn.metrics import classification_report\n",
        "from sklearn.metrics import accuracy_score\n",
        "print(classification_report(y_test,y_pred))\n",
        "print('LightGBM Model accuracy score: {0:0.4f}'.format(accuracy_score(y_test, y_pred)))"
      ],
      "metadata": {
        "colab": {
          "base_uri": "https://localhost:8080/"
        },
        "id": "jRoUxUKhHC5U",
        "outputId": "291fd244-365f-4e47-d91b-3e9eeb41079c"
      },
      "execution_count": null,
      "outputs": [
        {
          "output_type": "stream",
          "name": "stdout",
          "text": [
            "              precision    recall  f1-score   support\n",
            "\n",
            "           0       0.99      0.99      0.99      1559\n",
            "           1       0.97      0.98      0.98       760\n",
            "\n",
            "    accuracy                           0.98      2319\n",
            "   macro avg       0.98      0.98      0.98      2319\n",
            "weighted avg       0.98      0.98      0.98      2319\n",
            "\n",
            "LightGBM Model accuracy score: 0.9840\n"
          ]
        }
      ]
    },
    {
      "cell_type": "code",
      "source": [
        "y_pred_train = clf.predict(X_train)"
      ],
      "metadata": {
        "id": "X4CgDGFCHZxT"
      },
      "execution_count": null,
      "outputs": []
    },
    {
      "cell_type": "code",
      "source": [
        "print('Training-set accuracy score: {0:0.4f}'. format(accuracy_score(y_train, y_pred_train)))"
      ],
      "metadata": {
        "id": "to3QGtOmHbkC",
        "colab": {
          "base_uri": "https://localhost:8080/"
        },
        "outputId": "b8e3476e-682b-4c48-d262-a18ba5a6258b"
      },
      "execution_count": null,
      "outputs": [
        {
          "output_type": "stream",
          "name": "stdout",
          "text": [
            "Training-set accuracy score: 1.0000\n"
          ]
        }
      ]
    },
    {
      "cell_type": "code",
      "source": [
        "#Verificando se há Overfitting\n",
        "print('Training set score: {:.4f}'.format(clf.score(X_train, y_train)))\n",
        "\n",
        "print('Test set score: {:.4f}'.format(clf.score(X_test, y_test)))"
      ],
      "metadata": {
        "id": "F1kB4xZ2Hntw",
        "colab": {
          "base_uri": "https://localhost:8080/"
        },
        "outputId": "8defb932-f005-436d-8164-e229e71f6594"
      },
      "execution_count": null,
      "outputs": [
        {
          "output_type": "stream",
          "name": "stdout",
          "text": [
            "Training set score: 1.0000\n",
            "Test set score: 0.9840\n"
          ]
        }
      ]
    },
    {
      "cell_type": "markdown",
      "source": [
        "Devido a aproximação nos resultados , pode-se afirmar que não há Overfitting."
      ],
      "metadata": {
        "id": "lyYeEUBeYG3D"
      }
    },
    {
      "cell_type": "code",
      "source": [
        "#Imprimindo a Matriz de Confusão e simplificando\n",
        "from sklearn.metrics import confusion_matrix\n",
        "cm = confusion_matrix(y_test, y_pred)\n",
        "print('Confusion matrix\\n\\n', cm)\n",
        "print('\\nTrue Positives(TP) = ', cm[0,0])\n",
        "print('\\nTrue Negatives(TN) = ', cm[1,1])\n",
        "print('\\nFalse Positives(FP) = ', cm[0,1])\n",
        "print('\\nFalse Negatives(FN) = ', cm[1,0])"
      ],
      "metadata": {
        "id": "EvX87_lAH7hD",
        "colab": {
          "base_uri": "https://localhost:8080/"
        },
        "outputId": "29ce7110-0958-487d-d094-bf362afaf47d"
      },
      "execution_count": null,
      "outputs": [
        {
          "output_type": "stream",
          "name": "stdout",
          "text": [
            "Confusion matrix\n",
            "\n",
            " [[1539   20]\n",
            " [  17  743]]\n",
            "\n",
            "True Positives(TP) =  1539\n",
            "\n",
            "True Negatives(TN) =  743\n",
            "\n",
            "False Positives(FP) =  20\n",
            "\n",
            "False Negatives(FN) =  17\n"
          ]
        }
      ]
    },
    {
      "cell_type": "code",
      "source": [
        "#Matriz de confusão\n",
        "from sklearn.metrics import classification_report\n",
        "print(classification_report(y_test, y_pred))\n"
      ],
      "metadata": {
        "id": "z61hP8iEIT8o",
        "colab": {
          "base_uri": "https://localhost:8080/"
        },
        "outputId": "3fa9cf4f-6791-4f6e-ecbf-7e01fd8121cc"
      },
      "execution_count": null,
      "outputs": [
        {
          "output_type": "stream",
          "name": "stdout",
          "text": [
            "              precision    recall  f1-score   support\n",
            "\n",
            "           0       0.99      0.99      0.99      1559\n",
            "           1       0.97      0.98      0.98       760\n",
            "\n",
            "    accuracy                           0.98      2319\n",
            "   macro avg       0.98      0.98      0.98      2319\n",
            "weighted avg       0.98      0.98      0.98      2319\n",
            "\n"
          ]
        }
      ]
    },
    {
      "cell_type": "code",
      "source": [
        "y_pred = clf.predict(X_test)\n",
        "from sklearn.metrics import accuracy_score, classification_report, confusion_matrix\n",
        "acc = accuracy_score(y_pred, y_test)\n",
        "report = classification_report(y_test, y_pred)\n",
        "print(report)\n",
        "cm = confusion_matrix(y_pred, y_test)\n",
        "print(\"Accuracy of LightGBM Model:\", acc*100,\"%\")"
      ],
      "metadata": {
        "colab": {
          "base_uri": "https://localhost:8080/"
        },
        "id": "5qCNteVjrGtm",
        "outputId": "d5e154d8-314e-4626-edb8-90f58dc91600"
      },
      "execution_count": null,
      "outputs": [
        {
          "output_type": "stream",
          "name": "stdout",
          "text": [
            "              precision    recall  f1-score   support\n",
            "\n",
            "           0       0.99      0.99      0.99      1559\n",
            "           1       0.97      0.98      0.98       760\n",
            "\n",
            "    accuracy                           0.98      2319\n",
            "   macro avg       0.98      0.98      0.98      2319\n",
            "weighted avg       0.98      0.98      0.98      2319\n",
            "\n",
            "Accuracy of LightGBM Model: 98.40448469167745 %\n"
          ]
        }
      ]
    },
    {
      "cell_type": "markdown",
      "source": [
        "##Conclusão\n",
        "\n",
        "Baseado na Modelagem acima , É possível afirmar que a precisão dos dois modelos introduzidos no projeto tiveram uma aproximação na porcentagem de acurácia dos resultados, entretanto, o modelo LightGBM teve uma pequena vantagem em relação a Regressão logística.\n",
        "LightGBM ,\n",
        "98.40 X  97.28,  Regressão logística ."
      ],
      "metadata": {
        "id": "vqLXCelak2GQ"
      }
    }
  ]
}